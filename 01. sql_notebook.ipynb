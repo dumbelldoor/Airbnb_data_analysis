{
 "cells": [
  {
   "cell_type": "code",
   "execution_count": 0,
   "metadata": {
    "application/vnd.databricks.v1+cell": {
     "cellMetadata": {
      "byteLimit": 2048000,
      "implicitDf": true,
      "rowLimit": 10000
     },
     "inputWidgets": {},
     "nuid": "04e7413c-5030-4ed1-aba3-1bc21e6ee34a",
     "showTitle": false,
     "tableResultSettingsMap": {},
     "title": ""
    }
   },
   "outputs": [],
   "source": [
    "%sql\n",
    "DESCRIBE  databricks_ws_ec12ba49_a47a_48b9_b15a_1d80e624a8b2.default.airbnb_listing"
   ]
  },
  {
   "cell_type": "code",
   "execution_count": 0,
   "metadata": {
    "application/vnd.databricks.v1+cell": {
     "cellMetadata": {
      "byteLimit": 2048000,
      "implicitDf": true,
      "rowLimit": 10000
     },
     "inputWidgets": {},
     "nuid": "3403ea21-4d82-4233-937e-db535080fdaa",
     "showTitle": false,
     "tableResultSettingsMap": {},
     "title": ""
    }
   },
   "outputs": [],
   "source": [
    "%sql\n",
    "DESCRIBE databricks_ws_ec12ba49_a47a_48b9_b15a_1d80e624a8b2.default.airbnb_review"
   ]
  },
  {
   "cell_type": "code",
   "execution_count": 0,
   "metadata": {
    "application/vnd.databricks.v1+cell": {
     "cellMetadata": {
      "byteLimit": 2048000,
      "implicitDf": true,
      "rowLimit": 10000
     },
     "inputWidgets": {},
     "nuid": "448221dc-886d-4964-93b0-b66675e6f450",
     "showTitle": false,
     "tableResultSettingsMap": {},
     "title": ""
    }
   },
   "outputs": [],
   "source": [
    "%sql\n",
    "SELECT \n",
    "    * \n",
    "FROM \n",
    "    databricks_ws_ec12ba49_a47a_48b9_b15a_1d80e624a8b2.default.airbnb_listing AS l\n",
    "INNER JOIN\n",
    "    databricks_ws_ec12ba49_a47a_48b9_b15a_1d80e624a8b2.default.airbnb_review AS r\n",
    "ON \n",
    "    l.listing_id = r.listing_id;"
   ]
  },
  {
   "cell_type": "code",
   "execution_count": 0,
   "metadata": {
    "application/vnd.databricks.v1+cell": {
     "cellMetadata": {
      "byteLimit": 2048000,
      "implicitDf": true,
      "rowLimit": 10000
     },
     "inputWidgets": {},
     "nuid": "9efcec0a-acd0-489f-9385-2dcda5fb5ea3",
     "showTitle": false,
     "tableResultSettingsMap": {},
     "title": ""
    }
   },
   "outputs": [],
   "source": [
    "%sql\n",
    "CREATE OR REPLACE TABLE databricks_ws_ec12ba49_a47a_48b9_b15a_1d80e624a8b2.default.airbnb_combined AS\n",
    "SELECT \n",
    "    CAST(l.listing_id AS STRING) AS listing_id,\n",
    "    CAST(l.list_name AS STRING) AS list_name,\n",
    "    CAST(l.host_id AS STRING) AS host_id,\n",
    "    CAST(l.host_identity_verified AS STRING) AS host_identity_verified,\n",
    "    CAST(l.host_name AS STRING) AS host_name,\n",
    "    CAST(l.neighborhood_group AS STRING) AS neighborhood_group,\n",
    "    CAST(l.neighborhood AS STRING) AS neighborhood,\n",
    "    CAST(l.lat AS DOUBLE) AS lat, -- Latitude as DOUBLE\n",
    "    CAST(l.long AS DOUBLE) AS long, -- Longitude as DOUBLE\n",
    "    CAST(l.country AS STRING) AS country,\n",
    "    CAST(l.country_code AS STRING) AS country_code,\n",
    "    CAST(l.instant_bookable AS STRING) AS instant_bookable,\n",
    "    CAST(l.cancellation_policy AS STRING) AS cancellation_policy,\n",
    "    CAST(l.room_type AS STRING) AS room_type,\n",
    "    CAST(l.construction_year AS INT) AS construction_year, -- Year as INT\n",
    "    CAST(REGEXP_REPLACE(l.price, '\\\\$', '') AS DECIMAL(10,2)) AS price, -- Remove $ and cast to DECIMAL\n",
    "    CAST(REGEXP_REPLACE(l.service_fee, '\\\\$', '') AS DECIMAL(10,2)) AS service_fee, -- Remove $ and cast to DECIMAL\n",
    "    CAST(l.minimum_nights AS INT) AS minimum_nights, -- Minimum Nights as INT\n",
    "    CAST(l.number_of_reviews AS INT) AS number_of_reviews, -- Number of Reviews as INT\n",
    "    CASE \n",
    "        WHEN r.last_review IS NULL THEN NULL\n",
    "        ELSE TO_DATE(r.last_review, 'd/M/yyyy')\n",
    "    END AS last_review_date, -- Parse last_review to DATE\n",
    "    CAST(r.reviews_per_month AS DECIMAL(10,2)) AS reviews_per_month, -- Reviews Per Month as DECIMAL\n",
    "    CAST(r.review_rate_number AS DECIMAL(10,2)) AS review_rate_number, -- Review Rate Number as DECIMAL\n",
    "    CAST(r.calculated_host_listings_count AS INT) AS calculated_host_listings_count, -- Listings Count as INT\n",
    "    CAST(r.availability_365 AS INT) AS availability_365 -- Availability as INT\n",
    "FROM \n",
    "    databricks_ws_ec12ba49_a47a_48b9_b15a_1d80e624a8b2.default.airbnb_listing l\n",
    "JOIN \n",
    "    databricks_ws_ec12ba49_a47a_48b9_b15a_1d80e624a8b2.default.airbnb_review r\n",
    "ON \n",
    "    l.listing_id = r.listing_id;"
   ]
  },
  {
   "cell_type": "code",
   "execution_count": 0,
   "metadata": {
    "application/vnd.databricks.v1+cell": {
     "cellMetadata": {
      "byteLimit": 2048000,
      "implicitDf": true,
      "rowLimit": 10000
     },
     "inputWidgets": {},
     "nuid": "63d63ea5-6cda-498f-bacb-12006aae36d4",
     "showTitle": false,
     "tableResultSettingsMap": {},
     "title": ""
    }
   },
   "outputs": [],
   "source": [
    "%sql\n",
    "CREATE OR REPLACE TABLE databricks_ws_ec12ba49_a47a_48b9_b15a_1d80e624a8b2.default.airbnb_combined AS\n",
    "SELECT \n",
    "    CAST(l.listing_id AS STRING) AS listing_id,\n",
    "    CAST(l.list_name AS STRING) AS list_name,\n",
    "    CAST(l.host_id AS STRING) AS host_id,\n",
    "    CAST(l.host_identity_verified AS STRING) AS host_identity_verified,\n",
    "    CAST(l.host_name AS STRING) AS host_name,\n",
    "    CAST(l.neighborhood_group AS STRING) AS neighborhood_group,\n",
    "    CAST(l.neighborhood AS STRING) AS neighborhood,\n",
    "    CAST(l.lat AS DOUBLE) AS lat, \n",
    "    CAST(l.long AS DOUBLE) AS long, \n",
    "    CAST(l.country AS STRING) AS country,\n",
    "    CAST(l.country_code AS STRING) AS country_code,\n",
    "    CAST(l.instant_bookable AS STRING) AS instant_bookable,\n",
    "    CAST(l.cancellation_policy AS STRING) AS cancellation_policy,\n",
    "    CAST(l.room_type AS STRING) AS room_type,\n",
    "    CAST(l.construction_year AS INT) AS construction_year, \n",
    "    TRY_CAST(REGEXP_REPLACE(l.price, '\\\\$', '') AS DECIMAL(10,2)) AS price, \n",
    "    TRY_CAST(REGEXP_REPLACE(l.service_fee, '\\\\$', '') AS DECIMAL(10,2)) AS service_fee, \n",
    "    CAST(l.minimum_nights AS INT) AS minimum_nights, \n",
    "    CAST(l.number_of_reviews AS INT) AS number_of_reviews, \n",
    "    CASE \n",
    "        WHEN r.last_review IS NULL THEN NULL\n",
    "        ELSE TO_DATE(r.last_review, 'd/M/yyyy')\n",
    "    END AS last_review_date, \n",
    "    TRY_CAST(REGEXP_REPLACE(r.reviews_per_month, ',', '') AS DECIMAL(10,2)) AS reviews_per_month, \n",
    "    TRY_CAST(REGEXP_REPLACE(r.review_rate_number, ',', '') AS DECIMAL(10,2)) AS review_rate_number, \n",
    "    CAST(r.calculated_host_listings_count AS INT) AS calculated_host_listings_count, \n",
    "    CAST(r.availability_365 AS INT) AS availability_365 \n",
    "FROM \n",
    "    databricks_ws_ec12ba49_a47a_48b9_b15a_1d80e624a8b2.default.airbnb_listing l\n",
    "JOIN \n",
    "    databricks_ws_ec12ba49_a47a_48b9_b15a_1d80e624a8b2.default.airbnb_review r\n",
    "ON \n",
    "    l.listing_id = r.listing_id;"
   ]
  },
  {
   "cell_type": "code",
   "execution_count": 0,
   "metadata": {
    "application/vnd.databricks.v1+cell": {
     "cellMetadata": {
      "byteLimit": 2048000,
      "implicitDf": true,
      "rowLimit": 10000
     },
     "inputWidgets": {},
     "nuid": "84d8a26b-df61-4d02-9406-ad84249d49f1",
     "showTitle": false,
     "tableResultSettingsMap": {},
     "title": ""
    }
   },
   "outputs": [],
   "source": [
    "%sql\n",
    "SELECT DISTINCT neighborhood_group\n",
    "FROM databricks_ws_ec12ba49_a47a_48b9_b15a_1d80e624a8b2.default.airbnb_combined;"
   ]
  },
  {
   "cell_type": "code",
   "execution_count": 0,
   "metadata": {
    "application/vnd.databricks.v1+cell": {
     "cellMetadata": {
      "byteLimit": 2048000,
      "implicitDf": true,
      "rowLimit": 10000
     },
     "inputWidgets": {},
     "nuid": "aaf0d68a-5ccf-483d-8a7c-73e8c69fa789",
     "showTitle": false,
     "tableResultSettingsMap": {},
     "title": ""
    }
   },
   "outputs": [],
   "source": [
    "%sql\n",
    "SELECT COUNT(*) AS total_record_listing FROM databricks_ws_ec12ba49_a47a_48b9_b15a_1d80e624a8b2.default.airbnb_review;\n"
   ]
  },
  {
   "cell_type": "code",
   "execution_count": 0,
   "metadata": {
    "application/vnd.databricks.v1+cell": {
     "cellMetadata": {
      "byteLimit": 2048000,
      "implicitDf": true,
      "rowLimit": 10000
     },
     "inputWidgets": {},
     "nuid": "15691698-97a9-4314-918d-749f7db23367",
     "showTitle": false,
     "tableResultSettingsMap": {},
     "title": ""
    }
   },
   "outputs": [],
   "source": [
    "%sql\n",
    "SELECT COUNT(*) AS total_records_review FROM databricks_ws_ec12ba49_a47a_48b9_b15a_1d80e624a8b2.default.airbnb_listing;"
   ]
  },
  {
   "cell_type": "code",
   "execution_count": 0,
   "metadata": {
    "application/vnd.databricks.v1+cell": {
     "cellMetadata": {
      "byteLimit": 2048000,
      "implicitDf": true,
      "rowLimit": 10000
     },
     "inputWidgets": {},
     "nuid": "cd3d932c-cbed-4e54-8df0-a3716a805d35",
     "showTitle": false,
     "tableResultSettingsMap": {},
     "title": ""
    }
   },
   "outputs": [],
   "source": [
    "%sql\n",
    "SELECT neighborhood_group, COUNT(*) AS listing_count\n",
    "FROM databricks_ws_ec12ba49_a47a_48b9_b15a_1d80e624a8b2.default.airbnb_combined\n",
    "GROUP BY neighborhood_group; "
   ]
  },
  {
   "cell_type": "code",
   "execution_count": 0,
   "metadata": {
    "application/vnd.databricks.v1+cell": {
     "cellMetadata": {
      "byteLimit": 2048000,
      "implicitDf": true,
      "rowLimit": 10000
     },
     "inputWidgets": {},
     "nuid": "6524ef69-d993-4f1a-a7dd-57127c26f7e5",
     "showTitle": false,
     "tableResultSettingsMap": {},
     "title": ""
    }
   },
   "outputs": [],
   "source": [
    "%sql\n",
    "SELECT \n",
    "    CASE \n",
    "        WHEN LOWER(neighborhood_group) = 'manhattan' OR LOWER(neighborhood_group) = 'manhatan' THEN 'Manhattan'\n",
    "        WHEN LOWER(neighborhood_group) = 'brooklyn' OR LOWER(neighborhood_group) = 'brookln' THEN 'Brooklyn'\n",
    "        WHEN LOWER(neighborhood_group) = 'queens' THEN 'Queens'\n",
    "        WHEN LOWER(neighborhood_group) = 'staten island' THEN 'Staten Island'\n",
    "        WHEN LOWER(neighborhood_group) = 'bronx' THEN 'Bronx'\n",
    "        ELSE NULL\n",
    "    END AS standardized_neighborhood_group\n",
    "FROM \n",
    "    databricks_ws_ec12ba49_a47a_48b9_b15a_1d80e624a8b2.default.airbnb_combined\n",
    "GROUP BY \n",
    "    standardized_neighborhood_group;"
   ]
  },
  {
   "cell_type": "code",
   "execution_count": 0,
   "metadata": {
    "application/vnd.databricks.v1+cell": {
     "cellMetadata": {
      "byteLimit": 2048000,
      "implicitDf": true,
      "rowLimit": 10000
     },
     "inputWidgets": {},
     "nuid": "75eed264-a07e-4955-b652-261b590cca96",
     "showTitle": false,
     "tableResultSettingsMap": {},
     "title": ""
    }
   },
   "outputs": [],
   "source": [
    "%sql\n",
    "CREATE OR REPLACE TABLE databricks_ws_ec12ba49_a47a_48b9_b15a_1d80e624a8b2.default.airbnb_combined AS\n",
    "SELECT \n",
    "    *, \n",
    "    CASE \n",
    "      WHEN LOWER(neighborhood_group) = 'manhattan' OR LOWER(neighborhood_group) = 'manhatan' THEN 'Manhattan'\n",
    "      WHEN LOWER(neighborhood_group) = 'brooklyn' OR LOWER(neighborhood_group) = 'brookln' THEN 'Brooklyn'\n",
    "      WHEN LOWER(neighborhood_group) = 'queens' THEN 'Queens'\n",
    "      WHEN LOWER(neighborhood_group) = 'staten island' THEN 'Staten Island'\n",
    "      WHEN LOWER(neighborhood_group) = 'bronx' THEN 'Bronx'\n",
    "      ELSE NULL\n",
    "    END AS standardized_neighborhood_group\n",
    "FROM databricks_ws_ec12ba49_a47a_48b9_b15a_1d80e624a8b2.default.airbnb_combined;"
   ]
  },
  {
   "cell_type": "code",
   "execution_count": 0,
   "metadata": {
    "application/vnd.databricks.v1+cell": {
     "cellMetadata": {
      "byteLimit": 2048000,
      "implicitDf": true,
      "rowLimit": 10000
     },
     "inputWidgets": {},
     "nuid": "cabc0dbb-b80d-4896-aa5b-3bd0e8fadf42",
     "showTitle": false,
     "tableResultSettingsMap": {},
     "title": ""
    }
   },
   "outputs": [],
   "source": [
    "%sql\n",
    "SELECT listing_id , COUNT(*)\n",
    "FROM \n",
    "  databricks_ws_ec12ba49_a47a_48b9_b15a_1d80e624a8b2.default.airbnb_combined\n",
    "GROUP BY listing_id\n",
    "HAVING COUNT(*) > 1;\n"
   ]
  },
  {
   "cell_type": "code",
   "execution_count": 0,
   "metadata": {
    "application/vnd.databricks.v1+cell": {
     "cellMetadata": {
      "byteLimit": 2048000,
      "implicitDf": true,
      "rowLimit": 10000
     },
     "inputWidgets": {},
     "nuid": "ede710e0-67e6-4820-81cc-547e49435f4f",
     "showTitle": false,
     "tableResultSettingsMap": {},
     "title": ""
    }
   },
   "outputs": [],
   "source": [
    "%sql\n",
    "CREATE OR REPLACE TABLE databricks_ws_ec12ba49_a47a_48b9_b15a_1d80e624a8b2.default.airbnb_combined AS\n",
    "SELECT\n",
    "  *\n",
    "FROM \n",
    "  databricks_ws_ec12ba49_a47a_48b9_b15a_1d80e624a8b2.default.airbnb_combined\n",
    "WHERE \n",
    "  listing_id IS NOT NULL\n",
    "  AND host_id IS NOT NULL\n",
    "  AND neighborhood IS NOT NULL\n",
    "  AND price IS NOT NULL;"
   ]
  },
  {
   "cell_type": "code",
   "execution_count": 0,
   "metadata": {
    "application/vnd.databricks.v1+cell": {
     "cellMetadata": {
      "byteLimit": 2048000,
      "implicitDf": true,
      "rowLimit": 10000
     },
     "inputWidgets": {},
     "nuid": "459dcbfd-ea17-4159-9f36-9384fa8cbbd5",
     "showTitle": false,
     "tableResultSettingsMap": {},
     "title": ""
    }
   },
   "outputs": [],
   "source": [
    "%sql\n",
    "SELECT neighborhood, COUNT(*) AS listing_count\n",
    "FROM databricks_ws_ec12ba49_a47a_48b9_b15a_1d80e624a8b2.default.airbnb_combined\n",
    "GROUP BY neighborhood;"
   ]
  }
 ],
 "metadata": {
  "application/vnd.databricks.v1+notebook": {
   "computePreferences": null,
   "dashboards": [],
   "environmentMetadata": {
    "base_environment": "",
    "environment_version": "2"
   },
   "inputWidgetPreferences": null,
   "language": "python",
   "notebookMetadata": {
    "mostRecentlyExecutedCommandWithImplicitDF": {
     "commandId": 5468168575943134,
     "dataframes": [
      "_sqldf"
     ]
    },
    "pythonIndentUnit": 4
   },
   "notebookName": "01. sql_notebook",
   "widgets": {}
  },
  "language_info": {
   "name": "python"
  }
 },
 "nbformat": 4,
 "nbformat_minor": 0
}
